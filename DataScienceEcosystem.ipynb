{
 "cells": [
  {
   "cell_type": "markdown",
   "id": "b8e8b85b-c05b-4153-b659-39dc12e516bb",
   "metadata": {},
   "source": [
    "# Data Science Tools and Ecosystem"
   ]
  },
  {
   "cell_type": "markdown",
   "id": "c23be3dd-e58a-423c-bc5d-d8675565bde4",
   "metadata": {},
   "source": [
    "In this notebook, Data Science Tools and Ecosystem are summarized."
   ]
  },
  {
   "cell_type": "markdown",
   "id": "fb730349-fd54-4a47-bf39-45911819e213",
   "metadata": {},
   "source": [
    "Some of the popular languages that Data Scientists use are:\n",
    "1.  Python\n",
    "2.  R\n",
    "3.  SQL\n",
    "4.  Julia\n",
    "    "
   ]
  },
  {
   "cell_type": "markdown",
   "id": "e9a7812b-ed83-4e63-b7e6-ebe09e47335b",
   "metadata": {},
   "source": [
    "**Objectives:**\n",
    "List popular languages for Data Science\n",
    "* Python\n",
    "* SQL\n",
    "* C++"
   ]
  },
  {
   "cell_type": "markdown",
   "id": "e805101a-4b9e-49ba-ad0d-615a35f2b644",
   "metadata": {},
   "source": [
    "Some of the commonly used libraries used by Data Scientists include:\n",
    "1. TensorFlow\n",
    "2. NumPy\n",
    "3. SciPy\n"
   ]
  },
  {
   "cell_type": "markdown",
   "id": "83b902ee-fd23-4b80-a0f5-8e61e772dfa3",
   "metadata": {},
   "source": [
    "|Data Science Tools|\n",
    "--- | \n",
    "|RStudio|\n",
    "|Apache Spark|\n",
    "|TensorFlow|"
   ]
  },
  {
   "cell_type": "markdown",
   "id": "ad1fdae2-ee81-452f-968c-54081f985536",
   "metadata": {},
   "source": [
    "### Below are a few examples of evaluating arithmetic expressions in Python\n",
    "3*2"
   ]
  },
  {
   "cell_type": "code",
   "execution_count": 15,
   "id": "21602bf0-cd1c-4125-aed2-e2aad8df7e54",
   "metadata": {},
   "outputs": [
    {
     "data": {
      "text/plain": [
       "17"
      ]
     },
     "execution_count": 15,
     "metadata": {},
     "output_type": "execute_result"
    }
   ],
   "source": [
    "# This a simple arithmetic expression to mutiply then add integers\n",
    "(3*4)+5"
   ]
  },
  {
   "cell_type": "code",
   "execution_count": 16,
   "id": "9bd3eedd-c57f-4674-ab98-4fef250005a0",
   "metadata": {},
   "outputs": [
    {
     "name": "stdout",
     "output_type": "stream",
     "text": [
      "3:20\n"
     ]
    }
   ],
   "source": [
    "# This will convert 200 minutes to hours by diving by 60\n",
    "total_minutes = 200\n",
    "\n",
    "# Get hours with floor division\n",
    "hours = total_minutes // 60\n",
    "\n",
    "# Get additional minutes with modulus\n",
    "minutes = total_minutes % 60\n",
    "\n",
    "# Create time as a string\n",
    "time_string = \"{}:{}\".format(hours, minutes)\n",
    "\n",
    "print(time_string) # Prints '6:14' in this example"
   ]
  },
  {
   "cell_type": "markdown",
   "id": "2a7c0355-d557-467c-b447-3689f7ed3a2f",
   "metadata": {},
   "source": [
    "## Author\n",
    "Vignaux"
   ]
  }
 ],
 "metadata": {
  "kernelspec": {
   "display_name": "Python 3",
   "language": "python",
   "name": "python3"
  },
  "language_info": {
   "codemirror_mode": {
    "name": "ipython",
    "version": 3
   },
   "file_extension": ".py",
   "mimetype": "text/x-python",
   "name": "python",
   "nbconvert_exporter": "python",
   "pygments_lexer": "ipython3",
   "version": "3.8.8"
  }
 },
 "nbformat": 4,
 "nbformat_minor": 5
}
